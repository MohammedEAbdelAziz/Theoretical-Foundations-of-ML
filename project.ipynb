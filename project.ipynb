{
 "cells": [
  {
   "cell_type": "code",
   "execution_count": 8,
   "metadata": {},
   "outputs": [
    {
     "name": "stdout",
     "output_type": "stream",
     "text": [
      "                                               title  \\\n",
      "0  Pleasant Flights For Senior Passengers From Ja...   \n",
      "1            Dunno why people recommend this airline   \n",
      "2                          BEST 5 HOURS FLIGHT EVER!   \n",
      "3                     Nice Flight...Terrible Website   \n",
      "4  Great Legroom, Best Flight Experience, On Sche...   \n",
      "\n",
      "                                                text lang published_date  \\\n",
      "0  My elderly father, my aunt (  my late mother’s...   en     2024-11-05   \n",
      "1  Dunno how people rate this airline as good, ea...   en     2024-10-21   \n",
      "2  I flew Japan Airlines From Bangkok to Osaka, a...   en     2024-10-20   \n",
      "3  In a way JAL reminds me of my entire Japan exp...   en     2024-10-19   \n",
      "4  Great, maybe BEST flight experience. Always on...   en     2024-10-18   \n",
      "\n",
      "  travel_date  helpful_votes  rating  \n",
      "0  2024-05-31              0       4  \n",
      "1  2024-10-31              0       1  \n",
      "2  2024-10-31              2       5  \n",
      "3  2023-12-31              1       5  \n",
      "4  2024-08-31              0       4  \n"
     ]
    }
   ],
   "source": [
    "import pandas as pd\n",
    "import numpy as np\n",
    "import re\n",
    "import nltk\n",
    "import matplotlib.pyplot as plt\n",
    "from sklearn.model_selection import train_test_split\n",
    "from sklearn.feature_extraction.text import TfidfVectorizer\n",
    "from nltk.corpus import stopwords\n",
    "from nltk.tokenize import word_tokenize\n",
    "from nltk.stem import WordNetLemmatizer\n",
    "\n",
    "# Load the dataset\n",
    "data = pd.read_csv('./data/JAL_tripadvisor_reviews.csv')\n",
    "\n",
    "# Display the first few rows of the dataset\n",
    "print(data.head())"
   ]
  },
  {
   "cell_type": "code",
   "execution_count": 12,
   "metadata": {},
   "outputs": [
    {
     "name": "stdout",
     "output_type": "stream",
     "text": [
      "                                               title  \\\n",
      "0  Pleasant Flights For Senior Passengers From Ja...   \n",
      "1            Dunno why people recommend this airline   \n",
      "2                          BEST 5 HOURS FLIGHT EVER!   \n",
      "3                     Nice Flight...Terrible Website   \n",
      "4  Great Legroom, Best Flight Experience, On Sche...   \n",
      "\n",
      "                                                text  rating  \n",
      "0  My elderly father, my aunt (  my late mother’s...       4  \n",
      "1  Dunno how people rate this airline as good, ea...       1  \n",
      "2  I flew Japan Airlines From Bangkok to Osaka, a...       5  \n",
      "3  In a way JAL reminds me of my entire Japan exp...       5  \n",
      "4  Great, maybe BEST flight experience. Always on...       4  \n"
     ]
    },
    {
     "name": "stderr",
     "output_type": "stream",
     "text": [
      "[nltk_data] Downloading package punkt to\n",
      "[nltk_data]     C:\\Users\\moham\\AppData\\Roaming\\nltk_data...\n",
      "[nltk_data]   Package punkt is already up-to-date!\n",
      "[nltk_data] Downloading package punkt_tab to\n",
      "[nltk_data]     C:\\Users\\moham\\AppData\\Roaming\\nltk_data...\n",
      "[nltk_data]   Package punkt_tab is already up-to-date!\n",
      "[nltk_data] Downloading package stopwords to\n",
      "[nltk_data]     C:\\Users\\moham\\AppData\\Roaming\\nltk_data...\n",
      "[nltk_data]   Package stopwords is already up-to-date!\n",
      "[nltk_data] Downloading package wordnet to\n",
      "[nltk_data]     C:\\Users\\moham\\AppData\\Roaming\\nltk_data...\n",
      "[nltk_data]   Package wordnet is already up-to-date!\n"
     ]
    },
    {
     "name": "stdout",
     "output_type": "stream",
     "text": [
      "Training data shape: (2541, 1000)\n",
      "Test data shape: (636, 1000)\n"
     ]
    }
   ],
   "source": [
    "\n",
    "\n",
    "# get only the data we will work with\n",
    "clean_data = data[data[\"lang\"] == \"en\"][[\"title\", \"text\", \"rating\"]]\n",
    "\n",
    "clean_data.reset_index(drop=True, inplace=True)\n",
    "\n",
    "# Display the first few rows of the cleaned dataset\n",
    "print(clean_data.head())\n",
    "\n",
    "# Split the data into training and test sets\n",
    "X = clean_data[['title', 'text']]\n",
    "y = clean_data['rating']\n",
    "x_train, x_test, y_train, y_test = train_test_split(X, y, test_size=0.2, random_state=42)\n",
    "\n",
    "\n",
    "# Download necessary NLTK data\n",
    "nltk.download('punkt')\n",
    "nltk.download('punkt_tab')\n",
    "nltk.download('stopwords')\n",
    "nltk.download('wordnet')\n",
    "\n",
    "# Function to clean text\n",
    "def clean_text(text):\n",
    "    text = re.sub(r'http\\S+', '', text)  # Remove URLs\n",
    "    text = re.sub(r'[^a-zA-Z\\s]', '', text)  # Remove special characters and numbers\n",
    "    text = text.lower()  # Convert to lowercase\n",
    "    return text\n",
    "\n",
    "# Function to preprocess text\n",
    "def preprocess_text(text):\n",
    "    text = clean_text(text)\n",
    "    tokens = word_tokenize(text)  # Tokenization\n",
    "    tokens = [word for word in tokens if word not in stopwords.words('english')]  # Stopword removal\n",
    "    lemmatizer = WordNetLemmatizer()\n",
    "    tokens = [lemmatizer.lemmatize(word) for word in tokens]  # Lemmatization\n",
    "    return ' '.join(tokens)\n",
    "\n",
    "# Apply preprocessing to the title and text columns\n",
    "X_train_cleaned = x_train['title'] + ' ' + x_train['text']\n",
    "X_train_cleaned = X_train_cleaned.apply(preprocess_text)\n",
    "\n",
    "X_test_cleaned = x_test['title'] + ' ' + x_test['text']\n",
    "X_test_cleaned = X_test_cleaned.apply(preprocess_text)\n",
    "\n",
    "# Vectorize the text using TF-IDF\n",
    "vectorizer = TfidfVectorizer(max_features=1000)\n",
    "x_train_tfidf = vectorizer.fit_transform(X_train_cleaned)\n",
    "x_test_tfidf = vectorizer.transform(X_test_cleaned)\n",
    "\n",
    "# Display the shape of the vectorized data\n",
    "print(f'Training data shape: {x_train_tfidf.shape}')\n",
    "print(f'Test data shape: {x_test_tfidf.shape}')\n",
    "\n",
    "\n"
   ]
  }
 ],
 "metadata": {
  "kernelspec": {
   "display_name": "Python 3",
   "language": "python",
   "name": "python3"
  },
  "language_info": {
   "codemirror_mode": {
    "name": "ipython",
    "version": 3
   },
   "file_extension": ".py",
   "mimetype": "text/x-python",
   "name": "python",
   "nbconvert_exporter": "python",
   "pygments_lexer": "ipython3",
   "version": "3.12.3"
  }
 },
 "nbformat": 4,
 "nbformat_minor": 2
}
